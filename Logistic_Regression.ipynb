{
 "cells": [
  {
   "cell_type": "code",
   "execution_count": 1,
   "metadata": {},
   "outputs": [],
   "source": [
    "import numpy as np\n",
    "import matplotlib.pyplot as plt\n",
    "import pandas as pd\n",
    "\n",
    "%matplotlib inline"
   ]
  },
  {
   "cell_type": "code",
   "execution_count": 2,
   "metadata": {},
   "outputs": [
    {
     "data": {
      "text/html": [
       "<div>\n",
       "<style scoped>\n",
       "    .dataframe tbody tr th:only-of-type {\n",
       "        vertical-align: middle;\n",
       "    }\n",
       "\n",
       "    .dataframe tbody tr th {\n",
       "        vertical-align: top;\n",
       "    }\n",
       "\n",
       "    .dataframe thead th {\n",
       "        text-align: right;\n",
       "    }\n",
       "</style>\n",
       "<table border=\"1\" class=\"dataframe\">\n",
       "  <thead>\n",
       "    <tr style=\"text-align: right;\">\n",
       "      <th></th>\n",
       "      <th>0</th>\n",
       "      <th>1</th>\n",
       "      <th>2</th>\n",
       "    </tr>\n",
       "  </thead>\n",
       "  <tbody>\n",
       "    <tr>\n",
       "      <th>0</th>\n",
       "      <td>34.623660</td>\n",
       "      <td>78.024693</td>\n",
       "      <td>0</td>\n",
       "    </tr>\n",
       "    <tr>\n",
       "      <th>1</th>\n",
       "      <td>30.286711</td>\n",
       "      <td>43.894998</td>\n",
       "      <td>0</td>\n",
       "    </tr>\n",
       "    <tr>\n",
       "      <th>2</th>\n",
       "      <td>35.847409</td>\n",
       "      <td>72.902198</td>\n",
       "      <td>0</td>\n",
       "    </tr>\n",
       "    <tr>\n",
       "      <th>3</th>\n",
       "      <td>60.182599</td>\n",
       "      <td>86.308552</td>\n",
       "      <td>1</td>\n",
       "    </tr>\n",
       "    <tr>\n",
       "      <th>4</th>\n",
       "      <td>79.032736</td>\n",
       "      <td>75.344376</td>\n",
       "      <td>1</td>\n",
       "    </tr>\n",
       "  </tbody>\n",
       "</table>\n",
       "</div>"
      ],
      "text/plain": [
       "           0          1  2\n",
       "0  34.623660  78.024693  0\n",
       "1  30.286711  43.894998  0\n",
       "2  35.847409  72.902198  0\n",
       "3  60.182599  86.308552  1\n",
       "4  79.032736  75.344376  1"
      ]
     },
     "execution_count": 2,
     "metadata": {},
     "output_type": "execute_result"
    }
   ],
   "source": [
    "df = pd.read_csv('./ex2data1.txt', encoding='utf-8', header=None)\n",
    "df.head()"
   ]
  },
  {
   "cell_type": "code",
   "execution_count": 3,
   "metadata": {},
   "outputs": [
    {
     "data": {
      "text/plain": [
       "array([34.62365962, 30.28671077, 35.84740877, 45.08327748, 95.86155507,\n",
       "       75.01365839, 39.53833914, 67.94685548, 67.37202755, 50.53478829,\n",
       "       34.21206098, 93.1143888 , 61.83020602, 38.7858038 , 52.10797973,\n",
       "       40.23689374, 54.63510555, 33.91550011, 74.78925296, 34.18364003,\n",
       "       51.54772027, 82.36875376, 51.04775177, 62.22267576, 34.52451385,\n",
       "       50.28649612, 49.58667722, 32.57720017, 35.28611282, 56.2538175 ,\n",
       "       30.05882245, 44.66826172, 66.56089447, 49.07256322, 32.72283304,\n",
       "       60.45555629, 82.22666158, 42.07545454, 52.34800399, 55.48216114])"
      ]
     },
     "execution_count": 3,
     "metadata": {},
     "output_type": "execute_result"
    }
   ],
   "source": [
    "df.loc[df[2] == 0, [0, 1]][0].values"
   ]
  },
  {
   "cell_type": "code",
   "execution_count": 4,
   "metadata": {},
   "outputs": [
    {
     "data": {
      "image/png": "[encoded data removed]",
      "text/plain": [
       "<Figure size 432x432 with 1 Axes>"
      ]
     },
     "metadata": {
      "needs_background": "light"
     },
     "output_type": "display_data"
    }
   ],
   "source": [
    "plt.figure(figsize=(6, 6))\n",
    "plt.plot(df.loc[df[2] == 0, [0, 1]][0].values, df.loc[df[2] == 0, [0, 1]][1], '.r', label = 'Not admitted')\n",
    "plt.plot(df.loc[df[2] == 1, [0, 1]][0], df.loc[df[2] == 1, [0, 1]][1], '.b', label='Admitted')\n",
    "plt.legend()\n",
    "plt.xlabel('Exam1 score')\n",
    "plt.ylabel('Exam2_score')\n",
    "plt.show()"
   ]
  },
  {
   "cell_type": "markdown",
   "metadata": {},
   "source": [
    "# Logistic Regression\n",
    "### Sigmoid function:    \n",
    "$ g(z) = \\frac{1}{1 + {e}^{-z}} $\n",
    "\n",
    "$\\frac{\\partial{g(z)}}{\\partial{z}} = \\frac{e^{-z}}{(1 + e^{-z})^2} = \\frac{e^{-z}}{(1 + e^{-z})} \\frac{1}{(1 + e^{-z})} \n",
    "= \\frac{(1 + e^{-z}) -1}{(1 + e^{-z})} \\frac{1}{(1 + e^{-z})} = (1 - g(z))g(z) $\n",
    "### Hypothesis Function (Linear Hypothesis equation assumption: ${\\Theta}^TX$ ):\n",
    " $h_{\\Theta}(X)$ = $g({\\Theta}^TX)$  \n",
    " \n",
    "0 ${\\leq}$ $h_{\\Theta}(X)$ ${\\leq}$1 \n",
    "### Cost Function (Binary Entropy):  \n",
    "$ J_{\\Theta} = -ylog(h_{\\Theta}(X)) -(1-y)log(1-h_{\\Theta}(X))$\n",
    "\n",
    "### Gradient Desciend: (Result would be different with the derivative of hypothesis function) \n",
    "$ \\frac{\\partial{J_{\\Theta}}}{\\partial{\\Theta}} = -\\frac{y}{h_{\\Theta}(X)} \\frac{\\partial{h_{\\Theta}(X)}}{\\partial{\\Theta}} -\\frac{(1-y)}{(1 - h_{\\Theta}(X))} \\frac{\\partial{(1-h_{\\Theta}(X))}}{\\partial{\\Theta}}  \n",
    "= -\\frac{y}{g({\\Theta^T}X)} \\frac{\\partial{g({\\Theta^T}X})}{\\partial{\\Theta}} -\\frac{(1-y)}{(1 - g({\\Theta^T}X))} \\frac{\\partial{(1-g({\\Theta^T}X))}}{\\partial{\\Theta}} $\n",
    "\n",
    "$=-\\frac{y}{g({\\Theta^T}X)}(1- g({\\Theta^T}X)g({\\Theta^T}X) -\\frac{(1-y)}{(1 - g({\\Theta^T}X))}(1- g({\\Theta^T}X)(-)g({\\Theta^T}X) $\n",
    "\n",
    "$= - y (1- g({\\Theta^T}X) + (1-y)g({\\Theta^T}X)$ \n",
    "\n",
    "$= h_{\\Theta}(X) -y $\n",
    "\n",
    "$= g({\\Theta^T}X)-y$\n",
    "\n",
    "$= \\frac {1}{(1+e^{-{\\Theta}^TX})}-y$\n",
    "\n",
    "$=\\sum^{n}_{j=1} (\\frac{\\partial J_{\\Theta}}{\\partial{\\Theta_j}}) $\n",
    "$=\\sum^{n}_{j=1} (g({\\Theta^T}X)-y)\\frac {\\partial({\\Theta^T}X)}{\\partial {\\Theta_j}} $\n",
    "$=\\sum^{n}_{j=1} (g({\\Theta^T}X)-y)X_j $\n",
    "\n",
    "\n",
    "=np.dot(X.transport(), $g({\\Theta^T}X)-y$) \n",
    "\n",
    "=np.dot(X.transport(), $h_{\\Theta}(X)-y$) \n",
    "\n",
    "=np.dot(X.transport(), $\\hat{y}-y$)\n",
    "\n",
    "### Parameter of hypothesis function update with learning rate ${\\alpha}:$\n",
    "\n",
    "${\\Theta}$ += $\\frac {1}{number of X} * {\\alpha}(\\sum^{n}_{j=1}* (g({\\Theta^T}X)-y)X_j)$\n",
    "\n",
    "${\\Theta}$ += 1/X.shape[0] * ${\\alpha}$ * np.dot(X.transport(), $\\hat{y}-y$)"
   ]
  },
  {
   "cell_type": "code",
   "execution_count": 5,
   "metadata": {},
   "outputs": [
    {
     "data": {
      "image/png": "[encoded data removed]",
      "text/plain": [
       "<Figure size 432x288 with 1 Axes>"
      ]
     },
     "metadata": {
      "needs_background": "light"
     },
     "output_type": "display_data"
    }
   ],
   "source": [
    "plt.plot(np.linspace(0.1, 0.9, 100), -np.log(np.linspace(0.1, 0.9, 100)), label='if target=1: y = -logx')\n",
    "plt.plot(np.linspace(0.1, 0.9, 100), -np.log(1 -np.linspace(0.1, 0.9, 100)), label='if target=0: y = -log(1-x)')\n",
    "plt.legend()\n",
    "plt.xlabel('x')\n",
    "plt.ylabel('y')\n",
    "plt.title('Cost Function of Logistic Regression');"
   ]
  },
  {
   "cell_type": "code",
   "execution_count": 6,
   "metadata": {},
   "outputs": [],
   "source": [
    "def sigmoid(z):\n",
    "    return 1 / (1 + np.exp(-z))"
   ]
  },
  {
   "cell_type": "code",
   "execution_count": 7,
   "metadata": {},
   "outputs": [],
   "source": [
    "def costFunction(X, y, theta):\n",
    "    return - y * (np.log(sigmoid(np.dot(X, theta)))) - (1 - y) * (np.log(1 - sigmoid(np.dot(X, theta))))"
   ]
  },
  {
   "cell_type": "code",
   "execution_count": 9,
   "metadata": {},
   "outputs": [],
   "source": [
    "def gradientDescent(X, y , theta, iter_num, alpha_rate):\n",
    "    theta_list, cost_list = [], []\n",
    "    for idx in range(iter_num):\n",
    "        y_hat = sigmoid(np.dot(X, theta))\n",
    "        cost_list.append(np.mean((-y * (np.log(sigmoid(np.dot(X, theta)))) - (1-y)*(np.log(1 - sigmoid(np.dot(X, theta)))))))\n",
    "        theta -= (alpha_rate * 1/X.shape[0] * np.dot(X.T, (y_hat - y)))\n",
    "        theta_list.append(theta)\n",
    "    return theta_list, cost_list"
   ]
  },
  {
   "cell_type": "code",
   "execution_count": 8,
   "metadata": {},
   "outputs": [],
   "source": [
    "def featureStandardlized(X, X_mean, X_std):\n",
    "    if X_std == 0:\n",
    "        print('std is 0')\n",
    "    return (X - X_mean) / X_std"
   ]
  },
  {
   "cell_type": "code",
   "execution_count": 10,
   "metadata": {},
   "outputs": [
    {
     "data": {
      "text/html": [
       "<div>\n",
       "<style scoped>\n",
       "    .dataframe tbody tr th:only-of-type {\n",
       "        vertical-align: middle;\n",
       "    }\n",
       "\n",
       "    .dataframe tbody tr th {\n",
       "        vertical-align: top;\n",
       "    }\n",
       "\n",
       "    .dataframe thead th {\n",
       "        text-align: right;\n",
       "    }\n",
       "</style>\n",
       "<table border=\"1\" class=\"dataframe\">\n",
       "  <thead>\n",
       "    <tr style=\"text-align: right;\">\n",
       "      <th></th>\n",
       "      <th>0</th>\n",
       "      <th>1</th>\n",
       "      <th>2</th>\n",
       "    </tr>\n",
       "  </thead>\n",
       "  <tbody>\n",
       "    <tr>\n",
       "      <th>0</th>\n",
       "      <td>34.623660</td>\n",
       "      <td>78.024693</td>\n",
       "      <td>0</td>\n",
       "    </tr>\n",
       "    <tr>\n",
       "      <th>1</th>\n",
       "      <td>30.286711</td>\n",
       "      <td>43.894998</td>\n",
       "      <td>0</td>\n",
       "    </tr>\n",
       "    <tr>\n",
       "      <th>2</th>\n",
       "      <td>35.847409</td>\n",
       "      <td>72.902198</td>\n",
       "      <td>0</td>\n",
       "    </tr>\n",
       "    <tr>\n",
       "      <th>3</th>\n",
       "      <td>60.182599</td>\n",
       "      <td>86.308552</td>\n",
       "      <td>1</td>\n",
       "    </tr>\n",
       "    <tr>\n",
       "      <th>4</th>\n",
       "      <td>79.032736</td>\n",
       "      <td>75.344376</td>\n",
       "      <td>1</td>\n",
       "    </tr>\n",
       "  </tbody>\n",
       "</table>\n",
       "</div>"
      ],
      "text/plain": [
       "           0          1  2\n",
       "0  34.623660  78.024693  0\n",
       "1  30.286711  43.894998  0\n",
       "2  35.847409  72.902198  0\n",
       "3  60.182599  86.308552  1\n",
       "4  79.032736  75.344376  1"
      ]
     },
     "execution_count": 10,
     "metadata": {},
     "output_type": "execute_result"
    }
   ],
   "source": [
    "df.head()"
   ]
  },
  {
   "cell_type": "code",
   "execution_count": 11,
   "metadata": {},
   "outputs": [],
   "source": [
    "X1, X1_mean, X1_std = df[0].values.reshape(-1, 1), df[0].mean(), df[0].std()\n",
    "X2, X2_mean, X2_std = df[1].values.reshape(-1, 1), df[1].mean(), df[1].std()\n",
    "X_const = np.ones((X1.shape[0], 1))\n",
    "X1_stand, X2_stand = featureStandardlized(X1, X1_mean, X1_std), featureStandardlized(X2, X2_mean, X2_std)\n",
    "X_train = np.concatenate((X1_stand, X2_stand), axis=1)\n",
    "X_train = np.concatenate((X_const, X_train), axis=1)\n",
    "y_train = df[2].values.reshape(-1, 1)\n",
    "theta_train = np.zeros((3, 1))\n"
   ]
  },
  {
   "cell_type": "code",
   "execution_count": 12,
   "metadata": {},
   "outputs": [
    {
     "data": {
      "image/png": "[encoded data removed]",
      "text/plain": [
       "<Figure size 432x288 with 1 Axes>"
      ]
     },
     "metadata": {
      "needs_background": "light"
     },
     "output_type": "display_data"
    }
   ],
   "source": [
    "# Gradient Descent\n",
    "coeff_result, cost_result = gradientDescent(X_train, y_train, theta_train, 400, 1)\n",
    "plt.plot(range(len(cost_result)), cost_result)\n",
    "plt.title('lowest loss:{}'.format(str(min(cost_result))))\n",
    "plt.xlabel('iteration')\n",
    "plt.ylabel('Loss')\n",
    "plt.show();\n"
   ]
  },
  {
   "cell_type": "code",
   "execution_count": 14,
   "metadata": {},
   "outputs": [],
   "source": [
    "def predict(X, theta_):\n",
    "    \n",
    "    return 1 if sigmoid(np.dot(X, theta_))>=0.5 else 0"
   ]
  },
  {
   "cell_type": "code",
   "execution_count": 15,
   "metadata": {},
   "outputs": [],
   "source": [
    "def descisionBoundary(X,Y, theta_):\n",
    "    boundary_x, boundary_y = [], []\n",
    "    for i in X:\n",
    "        for j in Y:\n",
    "            if abs(sigmoid(theta_[0] + theta_[1] * i + theta_[2] * j) - 0.5) < 0.01:\n",
    "                boundary_x.append(i)\n",
    "                boundary_y.append(j)\n",
    "    return np.array(boundary_x), np.array(boundary_y)"
   ]
  },
  {
   "cell_type": "code",
   "execution_count": 16,
   "metadata": {},
   "outputs": [],
   "source": [
    "def unStandardlized(X, X_mean_u, X_std_u):\n",
    "    return (X * X_std_u) + X_mean_u"
   ]
  },
  {
   "cell_type": "code",
   "execution_count": 18,
   "metadata": {},
   "outputs": [],
   "source": [
    "grid = np.linspace(30, 100, 101).reshape(-1, 1)\n",
    "bx, by = descisionBoundary(featureStandardlized(grid, X1_mean, X1_std), \n",
    "                           featureStandardlized(grid, X2_mean, X2_std) ,coeff_result[-1])\n",
    "bx, by = unStandardlized(bx, X1_mean, X1_std), unStandardlized(by, X2_mean, X2_std)"
   ]
  },
  {
   "cell_type": "code",
   "execution_count": 20,
   "metadata": {},
   "outputs": [
    {
     "data": {
      "image/png": "[encoded data removed]",
      "text/plain": [
       "<Figure size 576x432 with 1 Axes>"
      ]
     },
     "metadata": {
      "needs_background": "light"
     },
     "output_type": "display_data"
    }
   ],
   "source": [
    "plt.figure(figsize=(8, 6))\n",
    "plt.plot(df.loc[df[2] == 0, [0, 1]][0].values, df.loc[df[2] == 0, [0, 1]][1], '^r', label = 'Not admitted')\n",
    "plt.plot(df.loc[df[2] == 1, [0, 1]][0], df.loc[df[2] == 1, [0, 1]][1], '*b', label='Admitted')\n",
    "plt.plot(bx, by, '--k', label='decisionBoundary_bad', alpha=0.4)\n",
    "grid_for_boundary = np.linspace(X1.min(), X1.max(), 100)\n",
    "\n",
    "plt.plot(grid_for_boundary, \n",
    "         unStandardlized(-(coeff_result[-1][0] + coeff_result[-1][1] * \\\n",
    "                         featureStandardlized(grid_for_boundary, X1_mean, X1_std))/coeff_result[-1][2], \n",
    "                         X1_mean, X1_std), 'c', label='decisionBoundary')\n",
    "plt.legend(loc=0)\n",
    "plt.xlabel('Exam1 score')\n",
    "plt.ylabel('Exam2_score')\n",
    "plt.show()"
   ]
  },
  {
   "cell_type": "code",
   "execution_count": null,
   "metadata": {},
   "outputs": [],
   "source": []
  }
 ],
 "metadata": {
  "kernelspec": {
   "display_name": "Python [conda env:my_env]",
   "language": "python",
   "name": "conda-env-my_env-py"
  },
  "language_info": {
   "codemirror_mode": {
    "name": "ipython",
    "version": 3
   },
   "file_extension": ".py",
   "mimetype": "text/x-python",
   "name": "python",
   "nbconvert_exporter": "python",
   "pygments_lexer": "ipython3",
   "version": "3.6.6"
  }
 },
 "nbformat": 4,
 "nbformat_minor": 2
}
